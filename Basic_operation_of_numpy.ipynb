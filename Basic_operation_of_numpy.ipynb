{
  "nbformat": 4,
  "nbformat_minor": 0,
  "metadata": {
    "colab": {
      "provenance": [],
      "include_colab_link": true
    },
    "kernelspec": {
      "name": "python3",
      "display_name": "Python 3"
    },
    "language_info": {
      "name": "python"
    }
  },
  "cells": [
    {
      "cell_type": "markdown",
      "metadata": {
        "id": "view-in-github",
        "colab_type": "text"
      },
      "source": [
        "<a href=\"https://colab.research.google.com/github/umekulsum23/DAV2015/blob/main/Basic_operation_of_numpy.ipynb\" target=\"_parent\"><img src=\"https://colab.research.google.com/assets/colab-badge.svg\" alt=\"Open In Colab\"/></a>"
      ]
    },
    {
      "cell_type": "code",
      "source": [
        "import numpy as np\n"
      ],
      "metadata": {
        "id": "lRGmtVl2oZ3Y"
      },
      "execution_count": null,
      "outputs": []
    },
    {
      "cell_type": "code",
      "execution_count": null,
      "metadata": {
        "colab": {
          "base_uri": "https://localhost:8080/"
        },
        "id": "h6p3yRYymIew",
        "outputId": "ca26a39a-6da7-44d4-d030-52f7045a9e19"
      },
      "outputs": [
        {
          "output_type": "stream",
          "name": "stdout",
          "text": [
            "1D array: \n",
            "Shape:  (3,)\n",
            "Size:  3\n",
            "Dimenssion:  1\n",
            "Length:  3\n",
            "\n",
            "2D array: \n",
            "Shape:  (2, 4)\n",
            "Size:  8\n",
            "Dimenssion:  2\n",
            "Length:  2\n",
            "\n",
            "3D array: \n",
            "Shape:  (3, 5)\n",
            "Size:  15\n",
            "Dimenssion:  2\n",
            "Length:  3\n"
          ]
        }
      ],
      "source": [
        "a=np.array([1,2,3])\n",
        "\n",
        "print(\"1D array: \")\n",
        "print(\"Shape: \",a.shape)\n",
        "print(\"Size: \",a.size)\n",
        "print(\"Dimenssion: \",a.ndim)\n",
        "print(\"Length: \",len(a))\n",
        "\n",
        "b=np.array([[1,2,3,4],[2,4,6,8]])\n",
        "\n",
        "print(\"\\n2D array: \")\n",
        "print(\"Shape: \",b.shape)\n",
        "print(\"Size: \",b.size)\n",
        "print(\"Dimenssion: \",b.ndim)\n",
        "print(\"Length: \",len(b))\n",
        "\n",
        "c=np.array([[1,2,3,4,5],[2,4,6,8,10],[3,6,9,12,15]])\n",
        "\n",
        "print(\"\\n3D array: \")\n",
        "print(\"Shape: \",c.shape)\n",
        "print(\"Size: \",c.size)\n",
        "print(\"Dimenssion: \",c.ndim)\n",
        "print(\"Length: \",len(c))\n"
      ]
    },
    {
      "cell_type": "code",
      "source": [
        "#arrange function\n",
        "odd_numbers=np.arange(-29,11,2)\n",
        "print(\"Array of odd numbers between -30 and 10:\",odd_numbers)"
      ],
      "metadata": {
        "colab": {
          "base_uri": "https://localhost:8080/"
        },
        "id": "3hMaQd85pFpg",
        "outputId": "a94e1d6b-3d78-4919-b78e-7155566fa0ef"
      },
      "execution_count": null,
      "outputs": [
        {
          "output_type": "stream",
          "name": "stdout",
          "text": [
            "Array of odd numbers between -30 and 10: [-29 -27 -25 -23 -21 -19 -17 -15 -13 -11  -9  -7  -5  -3  -1   1   3   5\n",
            "   7   9]\n"
          ]
        }
      ]
    },
    {
      "cell_type": "code",
      "source": [
        "#random value for 30 student and if the value is above 30 print how many are above 30\n",
        "a= np.random.randint(0, 101, 30)\n",
        "\n",
        "b=np.sum(a>=30)\n",
        "c=np.sum(a<30)\n",
        "print(\"Number of students above 30: \",b)\n",
        "print(\"Number of students failed: \",c)\n"
      ],
      "metadata": {
        "colab": {
          "base_uri": "https://localhost:8080/"
        },
        "id": "EMpquGYsqVz3",
        "outputId": "81d681d7-ea88-4577-da31-714a983598c6"
      },
      "execution_count": null,
      "outputs": [
        {
          "output_type": "stream",
          "name": "stdout",
          "text": [
            "Number of students above 30:  25\n",
            "Number of students failed:  5\n"
          ]
        }
      ]
    }
  ]
}